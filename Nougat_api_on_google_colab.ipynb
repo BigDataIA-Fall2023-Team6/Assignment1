{
  "cells": [
    {
      "cell_type": "code",
      "execution_count": 1,
      "metadata": {
        "colab": {
          "base_uri": "https://localhost:8080/"
        },
        "id": "KNFUoRs5ONSA",
        "outputId": "beef4285-7911-48df-eb85-5e29bf408abf"
      },
      "outputs": [
        {
          "name": "stdout",
          "output_type": "stream",
          "text": [
            "Requirement already satisfied: scikit-learn>=0.19.1 in /usr/local/lib/python3.10/dist-packages (from qudida>=0.0.4->albumentations>=1.0.0->nougat-ocr[api]) (1.2.2)\n",
            "Requirement already satisfied: certifi>=2017.4.17 in /usr/local/lib/python3.10/dist-packages (from requests<4.0->lightning<2022,>=2.0.0->nougat-ocr[api]) (2023.7.22)\n",
            "Requirement already satisfied: markdown-it-py>=2.2.0 in /usr/local/lib/python3.10/dist-packages (from rich<15.0,>=12.3.0->lightning<2022,>=2.0.0->nougat-ocr[api]) (3.0.0)\n",
            "Requirement already satisfied: pygments<3.0.0,>=2.13.0 in /usr/local/lib/python3.10/dist-packages (from rich<15.0,>=12.3.0->lightning<2022,>=2.0.0->nougat-ocr[api]) (2.16.1)\n",
            "Requirement already satisfied: networkx>=2.2 in /usr/local/lib/python3.10/dist-packages (from scikit-image>=0.16.1->albumentations>=1.0.0->nougat-ocr[api]) (3.1)\n",
            "Requirement already satisfied: imageio>=2.4.1 in /usr/local/lib/python3.10/dist-packages (from scikit-image>=0.16.1->albumentations>=1.0.0->nougat-ocr[api]) (2.31.3)\n",
            "Requirement already satisfied: tifffile>=2019.7.26 in /usr/local/lib/python3.10/dist-packages (from scikit-image>=0.16.1->albumentations>=1.0.0->nougat-ocr[api]) (2023.8.30)\n",
            "Requirement already satisfied: PyWavelets>=1.1.1 in /usr/local/lib/python3.10/dist-packages (from scikit-image>=0.16.1->albumentations>=1.0.0->nougat-ocr[api]) (1.4.1)\n",
            "Requirement already satisfied: itsdangerous<3.0.0,>=2.0.1 in /usr/local/lib/python3.10/dist-packages (from starsessions<2.0,>=1.2.1->lightning<2022,>=2.0.0->nougat-ocr[api]) (2.1.2)\n",
            "Requirement already satisfied: sympy in /usr/local/lib/python3.10/dist-packages (from torch>=1.4->timm==0.5.4->nougat-ocr[api]) (1.12)\n",
            "Requirement already satisfied: triton==2.0.0 in /usr/local/lib/python3.10/dist-packages (from torch>=1.4->timm==0.5.4->nougat-ocr[api]) (2.0.0)\n",
            "Requirement already satisfied: cmake in /usr/local/lib/python3.10/dist-packages (from triton==2.0.0->torch>=1.4->timm==0.5.4->nougat-ocr[api]) (3.27.4.1)\n",
            "Requirement already satisfied: lit in /usr/local/lib/python3.10/dist-packages (from triton==2.0.0->torch>=1.4->timm==0.5.4->nougat-ocr[api]) (16.0.6)\n",
            "Collecting ruamel.yaml.clib>=0.2.7 (from ruamel.yaml->sconf>=0.2.3->nougat-ocr[api])\n",
            "  Downloading ruamel.yaml.clib-0.2.7-cp310-cp310-manylinux_2_17_x86_64.manylinux2014_x86_64.manylinux_2_24_x86_64.whl (485 kB)\n",
            "\u001b[2K     \u001b[90m━━━━━━━━━━━━━━━━━━━━━━━━━━━━━━━━━━━━━━\u001b[0m \u001b[32m485.6/485.6 kB\u001b[0m \u001b[31m37.2 MB/s\u001b[0m eta \u001b[36m0:00:00\u001b[0m\n",
            "\u001b[?25hRequirement already satisfied: wcwidth>=0.1.4 in /usr/local/lib/python3.10/dist-packages (from blessed>=1.19.0->inquirer<5.0,>=2.10.0->lightning<2022,>=2.0.0->nougat-ocr[api]) (0.2.6)\n",
            "Requirement already satisfied: mdurl~=0.1 in /usr/local/lib/python3.10/dist-packages (from markdown-it-py>=2.2.0->rich<15.0,>=12.3.0->lightning<2022,>=2.0.0->nougat-ocr[api]) (0.1.2)\n",
            "Requirement already satisfied: setuptools>=41.0 in /usr/local/lib/python3.10/dist-packages (from readchar>=3.0.6->inquirer<5.0,>=2.10.0->lightning<2022,>=2.0.0->nougat-ocr[api]) (67.7.2)\n",
            "Requirement already satisfied: threadpoolctl>=2.0.0 in /usr/local/lib/python3.10/dist-packages (from scikit-learn>=0.19.1->qudida>=0.0.4->albumentations>=1.0.0->nougat-ocr[api]) (3.2.0)\n",
            "Requirement already satisfied: mpmath>=0.19 in /usr/local/lib/python3.10/dist-packages (from sympy->torch>=1.4->timm==0.5.4->nougat-ocr[api]) (1.3.0)\n",
            "Installing collected packages: types-python-dateutil, tokenizers, sentencepiece, safetensors, python-editor, xxhash, websockets, uvloop, ruamel.yaml.clib, readchar, rapidfuzz, python-multipart, python-dotenv, pypdfium2, pypdf, orjson, ordered-set, munch, lightning-utilities, httptools, h11, dill, blessed, backoff, watchfiles, uvicorn, starlette, ruamel.yaml, multiprocess, Levenshtein, inquirer, huggingface-hub, deepdiff, dateutils, croniter, arrow, transformers, starsessions, sconf, python-Levenshtein, fastapi, lightning-cloud, datasets, torchmetrics, pytorch-lightning, timm, lightning, nougat-ocr\n",
            "Successfully installed Levenshtein-0.22.0 arrow-1.3.0 backoff-2.2.1 blessed-1.20.0 croniter-1.4.1 datasets-2.14.5 dateutils-0.6.12 deepdiff-6.5.0 dill-0.3.7 fastapi-0.103.2 h11-0.14.0 httptools-0.6.0 huggingface-hub-0.17.3 inquirer-3.1.3 lightning-2.0.9.post0 lightning-cloud-0.5.39 lightning-utilities-0.9.0 multiprocess-0.70.15 munch-4.0.0 nougat-ocr-0.1.16 ordered-set-4.1.0 orjson-3.9.7 pypdf-3.16.2 pypdfium2-4.20.0 python-Levenshtein-0.22.0 python-dotenv-1.0.0 python-editor-1.0.4 python-multipart-0.0.6 pytorch-lightning-2.0.9.post0 rapidfuzz-3.3.1 readchar-4.0.5 ruamel.yaml-0.17.33 ruamel.yaml.clib-0.2.7 safetensors-0.3.3 sconf-0.2.5 sentencepiece-0.1.99 starlette-0.27.0 starsessions-1.3.0 timm-0.5.4 tokenizers-0.13.3 torchmetrics-1.2.0 transformers-4.33.3 types-python-dateutil-2.8.19.14 uvicorn-0.23.2 uvloop-0.17.0 watchfiles-0.20.0 websockets-11.0.3 xxhash-3.3.0\n"
          ]
        }
      ],
      "source": [
        "!pip3 install \"nougat-ocr[api]\""
      ]
    },
    {
      "cell_type": "code",
      "execution_count": 2,
      "metadata": {
        "id": "gkf7VS99OaN7"
      },
      "outputs": [],
      "source": [
        "!nougat_api &>/content/logs.txt &"
      ]
    },
    {
      "cell_type": "code",
      "execution_count": 3,
      "metadata": {
        "colab": {
          "base_uri": "https://localhost:8080/"
        },
        "id": "EbLgpVHrOm55",
        "outputId": "7029d4a4-f122-4a9a-be9a-fa34061beba2"
      },
      "outputs": [
        {
          "name": "stdout",
          "output_type": "stream",
          "text": [
            "2023-10-03 01:50:01.746778: W tensorflow/compiler/tf2tensorrt/utils/py_utils.cc:38] TF-TRT Warning: Could not find TensorRT\n",
            "downloading nougat checkpoint version 0.1.0-small to path /root/.cache/torch/hub/nougat-0.1.0-small\n",
            "\rconfig.json:   0%|          | 0.00/557 [00:00<?, ?b/s]\rconfig.json: 100%|██████████| 557/557 [00:00<00:00, 3.27Mb/s]\n",
            "\rpytorch_model.bin:   0%|          | 0.00/956M [00:00<?, ?b/s]\rpytorch_model.bin:   0%|          | 960k/956M [00:00<01:45, 9.47Mb/s]\rpytorch_model.bin:   0%|          | 3.31M/956M [00:00<00:54, 18.4Mb/s]\rpytorch_model.bin:   1%|          | 8.31M/956M [00:00<00:29, 33.8Mb/s]\rpytorch_model.bin:   2%|▏         | 18.8M/956M [00:00<00:15, 63.7Mb/s]\rpytorch_model.bin:   3%|▎         | 28.9M/956M [00:00<00:12, 78.4Mb/s]\rpytorch_model.bin:   4%|▍         | 36.4M/956M [00:00<00:13, 72.8Mb/s]\rpytorch_model.bin:   5%|▍         | 43.4M/956M [00:00<00:13, 70.1Mb/s]\rpytorch_model.bin:   5%|▌         | 50.2M/956M [00:00<00:13, 68.4Mb/s]\rpytorch_model.bin:   6%|▌         | 56.8M/956M [00:00<00:14, 66.9Mb/s]\rpytorch_model.bin:   7%|▋         | 63.2M/956M [00:01<00:14, 66.6Mb/s]\rpytorch_model.bin:   7%|▋         | 69.6M/956M [00:01<00:14, 66.1Mb/s]\rpytorch_model.bin:   8%|▊         | 75.9M/956M [00:01<00:14, 65.4Mb/s]\rpytorch_model.bin:   9%|▊         | 82.2M/956M [00:01<00:14, 65.3Mb/s]\rpytorch_model.bin:   9%|▉         | 88.4M/956M [00:01<00:13, 65.2Mb/s]\rpytorch_model.bin:  10%|▉         | 94.7M/956M [00:01<00:14, 63.9Mb/s]\rpytorch_model.bin:  11%|█         | 101M/956M [00:01<00:13, 65.4Mb/s] \rpytorch_model.bin:  11%|█▏        | 108M/956M [00:01<00:13, 65.0Mb/s]\rpytorch_model.bin:  12%|█▏        | 114M/956M [00:01<00:13, 65.8Mb/s]\rpytorch_model.bin:  13%|█▎        | 120M/956M [00:01<00:13, 64.7Mb/s]"
          ]
        }
      ],
      "source": [
        "%%bash\n",
        "cat /content/logs.txt"
      ]
    },
    {
      "cell_type": "code",
      "execution_count": null,
      "metadata": {
        "id": "0qx7vJBUOzDl"
      },
      "outputs": [],
      "source": [
        "!pip install pyngrok"
      ]
    },
    {
      "cell_type": "code",
      "execution_count": 5,
      "metadata": {
        "id": "EoY7lSgEO3w6"
      },
      "outputs": [],
      "source": [
        "from pyngrok import ngrok, conf\n",
        "import getpass\n",
        "\n",
        "\n",
        "conf.get_default().auth_token = \"ReplaceAuthKeyHere\"\n",
        "\n"
      ]
    },
    {
      "cell_type": "code",
      "execution_count": 6,
      "metadata": {
        "colab": {
          "base_uri": "https://localhost:8080/"
        },
        "id": "u4uZGcHiO9Z-",
        "outputId": "f406a248-5cdb-4c6f-c8d2-681b62684535"
      },
      "outputs": [
        {
          "name": "stdout",
          "output_type": "stream",
          "text": []
        },
        {
          "name": "stderr",
          "output_type": "stream",
          "text": [
            "WARNING:pyngrok.process.ngrok:t=2023-10-03T01:51:42+0000 lvl=warn msg=\"ngrok config file found at legacy location, move to XDG location\" xdg_path=/root/.config/ngrok/ngrok.yml legacy_path=/root/.ngrok2/ngrok.yml\n"
          ]
        },
        {
          "name": "stdout",
          "output_type": "stream",
          "text": [
            " * ngrok tunnel \"NgrokTunnel: \"https://e722-34-125-175-183.ngrok-free.app\" -> \"http://localhost:8503\"\" -> \"http://127.0.0.1:8503/\"\n"
          ]
        }
      ],
      "source": [
        "port = 8503\n",
        "\n",
        "\n",
        "public_url = ngrok.connect(port)\n",
        "\n",
        "\n",
        "print(\" * ngrok tunnel \\\"{}\\\" -> \\\"http://127.0.0.1:{}/\\\"\".format(public_url, port))"
      ]
    },
    {
      "cell_type": "code",
      "execution_count": 7,
      "metadata": {
        "colab": {
          "base_uri": "https://localhost:8080/"
        },
        "id": "lTCb9OAOPDxA",
        "outputId": "c1c93e6f-f457-41cd-9fed-a490804478d7"
      },
      "outputs": [
        {
          "name": "stdout",
          "output_type": "stream",
          "text": [
            "Nougat API is running and accessible.\n"
          ]
        }
      ],
      "source": [
        "import requests\n",
        "\n",
        "\n",
        "nougat_api_url = \"https://e722-34-125-175-183.ngrok-free.app\"\n",
        "\n",
        "try:\n",
        "    # Send a GET request to the Nougat API\n",
        "    response = requests.get(nougat_api_url)\n",
        "\n",
        "\n",
        "    if response.status_code == 200:\n",
        "        print(\"Nougat API is running and accessible.\")\n",
        "    else:\n",
        "        print(f\"Nougat API returned a status code: {response.status_code}\")\n",
        "except Exception as e:\n",
        "    print(f\"Error while trying to access Nougat API: {str(e)}\")"
      ]
    }
  ],
  "metadata": {
    "accelerator": "GPU",
    "colab": {
      "gpuType": "T4",
      "provenance": []
    },
    "kernelspec": {
      "display_name": "Python 3",
      "name": "python3"
    },
    "language_info": {
      "name": "python"
    }
  },
  "nbformat": 4,
  "nbformat_minor": 0
}
